{
 "cells": [
  {
   "cell_type": "code",
   "execution_count": 1,
   "metadata": {},
   "outputs": [],
   "source": [
    "import time\n",
    "import requests\n",
    "from bs4 import BeautifulSoup\n",
    "import pandas as pd\n",
    "import tqdm"
   ]
  },
  {
   "cell_type": "code",
   "execution_count": 2,
   "metadata": {},
   "outputs": [],
   "source": [
    "def parser(url):\n",
    "    texts=[]\n",
    "    dates = pd.date_range(start=\"2023-01-01\", periods=365+365-31, freq=\"D\")\n",
    "    for day in tqdm.tqdm([i.strftime(\"%Y%m%d\") for i in dates]):\n",
    "        page = requests.get(url+day)\n",
    "        soup = BeautifulSoup(page.text, \"html.parser\")\n",
    "        titles=[]\n",
    "        content = soup.findAll('a', class_='list-item__title color-font-hover-only')\n",
    "        links=[]\n",
    "        for item in content:\n",
    "            links.append(item.attrs['href'])\n",
    "        for link in links:\n",
    "            try:\n",
    "                page = requests.get(link)\n",
    "                time.sleep(0.1)\n",
    "                soup = BeautifulSoup(page.text, \"html.parser\")\n",
    "                content = soup.findAll('div', class_='article__text')\n",
    "                res=''\n",
    "                for part in content:\n",
    "                    res=res+part.text+' '\n",
    "                texts.append(res)\n",
    "            except:\n",
    "                pass\n",
    "    print(f'Новости за период с {dates[0]} по {dates[-1]}')\n",
    "    print(f'Всего {len(texts)} новостей, длина первого текста {len(texts[0])}')\n",
    "    return texts"
   ]
  },
  {
   "cell_type": "code",
   "execution_count": 3,
   "metadata": {},
   "outputs": [],
   "source": [
    "def write_df(url, topic, filename):\n",
    "    news = parser(url)\n",
    "    df=pd.DataFrame({'text' : news})\n",
    "    df['topic']=topic\n",
    "    df.sample(5)\n",
    "    df.to_pickle(f'{filename}.p', compression=\"gzip\")\n",
    "    return df"
   ]
  },
  {
   "cell_type": "markdown",
   "metadata": {},
   "source": [
    "Темы из соревнования\n",
    "\n",
    "'Общество/Россия' : 0\n",
    "'Экономика' : 1\n",
    "'Силовые структуры' : 2\n",
    "'Бывший СССР' : 3\n",
    "'Спорт' : 4\n",
    "'Забота о себе' : 5\n",
    "'Строительство' : 6\n",
    "'Туризм/Путешествия' : 7\n",
    "'Наука и техника' : 8"
   ]
  },
  {
   "cell_type": "code",
   "execution_count": 4,
   "metadata": {},
   "outputs": [
    {
     "name": "stderr",
     "output_type": "stream",
     "text": [
      "100%|██████████| 699/699 [1:01:38<00:00,  5.29s/it]\n"
     ]
    },
    {
     "name": "stdout",
     "output_type": "stream",
     "text": [
      "Новости за период с 2023-01-01 00:00:00 по 2024-11-29 00:00:00\n",
      "Всего 3683 новостей, длина первого текста 1298\n"
     ]
    },
    {
     "name": "stderr",
     "output_type": "stream",
     "text": [
      "100%|██████████| 699/699 [03:40<00:00,  3.16it/s]\n"
     ]
    },
    {
     "name": "stdout",
     "output_type": "stream",
     "text": [
      "Новости за период с 2023-01-01 00:00:00 по 2024-11-29 00:00:00\n",
      "Всего 16 новостей, длина первого текста 1307\n"
     ]
    },
    {
     "name": "stderr",
     "output_type": "stream",
     "text": [
      "100%|██████████| 699/699 [14:33<00:00,  1.25s/it] \n"
     ]
    },
    {
     "name": "stdout",
     "output_type": "stream",
     "text": [
      "Новости за период с 2023-01-01 00:00:00 по 2024-11-29 00:00:00\n",
      "Всего 674 новостей, длина первого текста 6375\n"
     ]
    },
    {
     "name": "stderr",
     "output_type": "stream",
     "text": [
      "100%|██████████| 699/699 [03:05<00:00,  3.77it/s]"
     ]
    },
    {
     "name": "stdout",
     "output_type": "stream",
     "text": [
      "Новости за период с 2023-01-01 00:00:00 по 2024-11-29 00:00:00\n",
      "Всего 6 новостей, длина первого текста 335\n"
     ]
    },
    {
     "name": "stderr",
     "output_type": "stream",
     "text": [
      "\n"
     ]
    },
    {
     "data": {
      "text/html": [
       "<div>\n",
       "<style scoped>\n",
       "    .dataframe tbody tr th:only-of-type {\n",
       "        vertical-align: middle;\n",
       "    }\n",
       "\n",
       "    .dataframe tbody tr th {\n",
       "        vertical-align: top;\n",
       "    }\n",
       "\n",
       "    .dataframe thead th {\n",
       "        text-align: right;\n",
       "    }\n",
       "</style>\n",
       "<table border=\"1\" class=\"dataframe\">\n",
       "  <thead>\n",
       "    <tr style=\"text-align: right;\">\n",
       "      <th></th>\n",
       "      <th>text</th>\n",
       "      <th>topic</th>\n",
       "    </tr>\n",
       "  </thead>\n",
       "  <tbody>\n",
       "    <tr>\n",
       "      <th>0</th>\n",
       "      <td>Уборка снега в Москве — процесс хорошо отлажен...</td>\n",
       "      <td>Техника</td>\n",
       "    </tr>\n",
       "    <tr>\n",
       "      <th>1</th>\n",
       "      <td>МОСКВА, 15 авг – РИА Новости. Новый материал д...</td>\n",
       "      <td>Техника</td>\n",
       "    </tr>\n",
       "    <tr>\n",
       "      <th>2</th>\n",
       "      <td>МОСКВА, 21 авг — РИА Новости, Надежда Сарапина...</td>\n",
       "      <td>Техника</td>\n",
       "    </tr>\n",
       "    <tr>\n",
       "      <th>3</th>\n",
       "      <td>МОСКВА, 21 авг — РИА Новости. В автосервисах с...</td>\n",
       "      <td>Техника</td>\n",
       "    </tr>\n",
       "    <tr>\n",
       "      <th>4</th>\n",
       "      <td>Бренд бытовой техники Dreame выпустил сразу не...</td>\n",
       "      <td>Техника</td>\n",
       "    </tr>\n",
       "    <tr>\n",
       "      <th>5</th>\n",
       "      <td>МОСКВА, 17 мая — РИА Новости. Выбор хорошего п...</td>\n",
       "      <td>Техника</td>\n",
       "    </tr>\n",
       "  </tbody>\n",
       "</table>\n",
       "</div>"
      ],
      "text/plain": [
       "                                                text    topic\n",
       "0  Уборка снега в Москве — процесс хорошо отлажен...  Техника\n",
       "1  МОСКВА, 15 авг – РИА Новости. Новый материал д...  Техника\n",
       "2  МОСКВА, 21 авг — РИА Новости, Надежда Сарапина...  Техника\n",
       "3  МОСКВА, 21 авг — РИА Новости. В автосервисах с...  Техника\n",
       "4  Бренд бытовой техники Dreame выпустил сразу не...  Техника\n",
       "5  МОСКВА, 17 мая — РИА Новости. Выбор хорошего п...  Техника"
      ]
     },
     "execution_count": 4,
     "metadata": {},
     "output_type": "execute_result"
    }
   ],
   "source": [
    "#Россия  \n",
    "print('Россия')\n",
    "write_df('https://ria.ru/location_rossiyskaya-federatsiya/', 'Россия', 'df_Russia')\n",
    "print()\n",
    "#Экономика\n",
    "print('Экономика')\n",
    "write_df('https://ria.ru/economy/', 'Экономика', 'df_economy')\n",
    "print()\n",
    "#Бывший СССР\n",
    "print('Бывший СССР')\n",
    "write_df('https://russian.rt.com/listing/type.Article.category.ussr/prepare/all-new/15/', 'Бывший СССР', 'df_ussr')\n",
    "print()\n",
    "#Спорт\n",
    "print('Спорт')\n",
    "write_df('https://rsport.ria.ru/archive/', 'Спорт', 'df_sport')\n",
    "print()\n",
    "#Здоровье\n",
    "print('Здоровье')\n",
    "write_df('https://ria.ru/health/', 'Здоровье', 'df_health')\n",
    "print()\n",
    "# Строительство\n",
    "print('Строительство')\n",
    "write_df('https://ria.ru/tag_thematic_category_Stroitelstvo/', 'Строительство', 'df_stroi')\n",
    "print()\n",
    "#Туризм/Путешествия\n",
    "print('Туризм/Путешествия')\n",
    "write_df('https://ria.ru/tourism/', 'Туризм', 'df_tourism')\n",
    "write_df('https://ria.ru/category_puteshestvija/', 'Путешествия', 'df_trevel')\n",
    "print()\n",
    "#Наука и техника\n",
    "print('Наука и техника')\n",
    "write_df('https://ria.ru/science/', 'Наука', 'df_science')\n",
    "write_df('https://ria.ru/tag_tekhnika_2/', 'Техника', 'df_tech')\n",
    "print()"
   ]
  },
  {
   "cell_type": "code",
   "execution_count": null,
   "metadata": {},
   "outputs": [],
   "source": []
  }
 ],
 "metadata": {
  "kernelspec": {
   "display_name": "Python 3",
   "language": "python",
   "name": "python3"
  },
  "language_info": {
   "codemirror_mode": {
    "name": "ipython",
    "version": 3
   },
   "file_extension": ".py",
   "mimetype": "text/x-python",
   "name": "python",
   "nbconvert_exporter": "python",
   "pygments_lexer": "ipython3",
   "version": "3.11.9"
  }
 },
 "nbformat": 4,
 "nbformat_minor": 2
}
